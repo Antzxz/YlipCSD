{
 "cells": [
  {
   "cell_type": "markdown",
   "metadata": {},
   "source": [
    "# Script to generate predictions of KO strain design performance\n",
    "\n",
    "## Detailed in \"Integrated knowledge mining, genome-scale modeling, and machine learning for predicting *Yarrowia lipolytica* bioproduction\".\n",
    "\n",
    "### Description. \n",
    "Script takes a target compound, a list of reactions or genes to test for KO or OE, and generates predicted titers for each design. \n",
    "\n",
    "The default conditions for prediction are in glucose, with no prior genetic engineering. The prediction is obtained through generated machine-learning model detailed in the publication.\n",
    "\n",
    "#### Procedure:\n",
    "1. Read in data and constructs to screen from \"Template_ComputationalDesign\" spreadsheet.\n",
    "2. Generate FBA features for the WT and each strain construct.\n",
    "3. Predict the titer of each strain.\n",
    "4. Output the results.\n",
    "\n",
    "#### Inputs:\n",
    "1. Supplemental Excel File 6- CSD Template.xlsx: Spreadsheet where the product, testing environmental conditons, and list of KO targets to screen are input.\n",
    "      Supplemental Excel File 6- CSD Template.xslx\n",
    "2. Data Encoding File \n",
    "      Supplemental Data File 2- DataCharateristics & Encoding.xlsx\n",
    "\n",
    "#### Output:\n",
    "1. titerPredictionsKO.csv: Spreadsheet containing a prediction of the WT strain titer, each KO strain titer, and the FBA predicted product yield and biomass growth rate.\n",
    "\n",
    "\n",
    "#### Additional required scripts:\n",
    "1. FBA_function_.py:\n",
    "    Performs FBA feature generation and extraction\n",
    "2. encodingFunction_.py:\n",
    "    Encodes the data for input to the ML model\n",
    "3. FBA_functionOE_.py:\n",
    "    Performs Gene OE feature generation and extraction"
   ]
  },
  {
   "cell_type": "markdown",
   "metadata": {},
   "source": [
    "### Libraries to import"
   ]
  },
  {
   "cell_type": "code",
   "execution_count": 1,
   "metadata": {},
   "outputs": [],
   "source": [
    "import pandas as pd\n",
    "import pickle\n",
    "from collections import defaultdict\n",
    "import warnings\n",
    "import numpy as np\n",
    "import os\n",
    "\n",
    "\n",
    "\n",
    "\n",
    "# from FBA_function_ import FBA_FeatureExtraction\n",
    "from encodingFunction_ import encodeTransform"
   ]
  },
  {
   "cell_type": "markdown",
   "metadata": {},
   "source": [
    "### Ensure the spreadsheet is within the directory."
   ]
  },
  {
   "cell_type": "code",
   "execution_count": 2,
   "metadata": {},
   "outputs": [],
   "source": [
    "dir_path = os.path.dirname(os.path.realpath('Supplemental Excel File 6- CSD Template.xlsx'))\n",
    "file_path = os.path.join(dir_path,'Supplemental Excel File 6- CSD Template.xlsx')"
   ]
  },
  {
   "cell_type": "code",
   "execution_count": 3,
   "metadata": {},
   "outputs": [],
   "source": [
    "# reads in if you will performing knocksouts or overexpressions\n",
    "inputKOorOE = pd.read_excel(file_path,sheet_name='KO_or_OE')\n",
    "\n"
   ]
  },
  {
   "cell_type": "code",
   "execution_count": 4,
   "metadata": {},
   "outputs": [],
   "source": [
    "if inputKOorOE['Specify'][0]=='KO':  \n",
    "\n",
    "# if perform_knockouts==1:\n",
    "    #custom functions provided in the directory.\n",
    "    from FBA_function_ import FBA_FeatureExtraction #KO\n",
    "else:\n",
    "    #custom functions provided in the directory for OE.\n",
    "    from FBA_functionOE_ import FBA_FeatureExtraction #OE\n"
   ]
  },
  {
   "cell_type": "code",
   "execution_count": 5,
   "metadata": {},
   "outputs": [],
   "source": [
    "#reads in the information from the datasheets\n",
    "raw_construct = pd.read_excel(file_path,sheet_name='predictions',skiprows=range(2))\n",
    "optKnockRxns = pd.read_excel(file_path,sheet_name='targetRxns')\n",
    "\n",
    "optOERxns = optKnockRxns ## delete\n",
    "\n",
    "\n",
    "# consolidate meta-information into usable features\n",
    "data = raw_construct\n",
    "optData = optKnockRxns\n",
    "data['number_genes_mod'] = data.genes_modified_updated.apply(lambda x: x.count(';')+1 if isinstance(x,str) else 0)\n",
    "data['number_genes_deleted'] = data.gene_deletion.apply(lambda x: x.replace(';','').count('1') if isinstance(x,str) else 0)\n",
    "data['number_total_genes_overexp'] = data.gene_overexpression.apply(lambda x: x.replace(';','').count('1') if isinstance(x,str) else 0)\n",
    "data['number_genes_het'] = data.heterologous_gene.apply(lambda x: x.replace(';','').count('1') if isinstance(x,str) else 0)\n",
    "\n",
    "# hettemp1 = data.heterologous_gene#.apply(lambda x: x if isinstance(x,str) else 'NA')\n",
    "hettemp1 = data.heterologous_gene.apply(lambda x: x if isinstance(x,str) else 'NA')\n",
    "data.heterologous_gene\n",
    "hettemp2 = hettemp1.str.split(';',expand=True)\n",
    "\n",
    "# overexpressTemp1 = data.gene_overexpression.fillna('2')\n",
    "overexpressTemp1 = data.gene_overexpression.apply(lambda x: x if isinstance(x,str) else 'NA')\n",
    "overexpressTemp2 = overexpressTemp1.str.split(';',expand=True)\n",
    "nativeGenes = overexpressTemp2[hettemp2=='0']\n",
    "\n",
    "data['number_native_genes_overexp'] = nativeGenes.count(axis=1)\n"
   ]
  },
  {
   "cell_type": "code",
   "execution_count": null,
   "metadata": {},
   "outputs": [],
   "source": []
  },
  {
   "cell_type": "markdown",
   "metadata": {},
   "source": [
    "## FBA Modeling"
   ]
  },
  {
   "cell_type": "code",
   "execution_count": 6,
   "metadata": {},
   "outputs": [
    {
     "name": "stderr",
     "output_type": "stream",
     "text": [
      "/home/jjczajka/Documents/GitHub/YlipCSD/PredictionFiles/FBA_functionOE_.py:46 \u001b[1;31mUserWarning\u001b[0m: DataFrame columns are not unique, some columns will be omitted.\n",
      "/home/jjczajka/Documents/GitHub/YlipCSD/PredictionFiles/FBA_functionOE_.py:61 \u001b[1;31mUserWarning\u001b[0m: DataFrame columns are not unique, some columns will be omitted.\n"
     ]
    },
    {
     "name": "stdout",
     "output_type": "stream",
     "text": [
      "1.1398166174414033 iYLI647\n",
      "Completed  1  overexpression simulations\n",
      "0 OE failures\n",
      "0 Prod failures\n",
      "0 0 0 0 0 0 failure cases 1-6\n"
     ]
    }
   ],
   "source": [
    "##FBA modeling\n",
    "#GSM to use, default is 'iYLI647'\n",
    "FBA_models=['iYLI647']\n",
    "\n",
    "#Extracted FBA features\n",
    "if inputKOorOE['Specify'][0]=='KO':  \n",
    "\n",
    "# if perform_knockouts==1:\n",
    "    output = FBA_FeatureExtraction(data,optKnockRxns,FBA_models) #KO\n",
    "else:\n",
    "    output = FBA_FeatureExtraction(data,optKnockRxns,optKnockRxns,FBA_models) # OE\n",
    "\n"
   ]
  },
  {
   "cell_type": "code",
   "execution_count": 7,
   "metadata": {},
   "outputs": [
    {
     "data": {
      "text/html": [
       "<div>\n",
       "<style scoped>\n",
       "    .dataframe tbody tr th:only-of-type {\n",
       "        vertical-align: middle;\n",
       "    }\n",
       "\n",
       "    .dataframe tbody tr th {\n",
       "        vertical-align: top;\n",
       "    }\n",
       "\n",
       "    .dataframe thead th {\n",
       "        text-align: right;\n",
       "    }\n",
       "</style>\n",
       "<table border=\"1\" class=\"dataframe\">\n",
       "  <thead>\n",
       "    <tr style=\"text-align: right;\">\n",
       "      <th></th>\n",
       "      <th>paper_number</th>\n",
       "      <th>blank1</th>\n",
       "      <th>cs1</th>\n",
       "      <th>cs_conc1</th>\n",
       "      <th>cs1_heatCombustion(kJ/mol)</th>\n",
       "      <th>cs2</th>\n",
       "      <th>cs_conc2</th>\n",
       "      <th>cs2_heatCombustion(kJ/mol)</th>\n",
       "      <th>reactor_type</th>\n",
       "      <th>rxt_volume</th>\n",
       "      <th>...</th>\n",
       "      <th>EMP_iYLI647</th>\n",
       "      <th>PPP_iYLI647</th>\n",
       "      <th>TCA_iYLI647</th>\n",
       "      <th>NADPH_iYLI647</th>\n",
       "      <th>ATP_iYLI647</th>\n",
       "      <th>PrdtFlux_iYLI647</th>\n",
       "      <th>PrdtYield_iYLI647</th>\n",
       "      <th>Biomass_iYLI647</th>\n",
       "      <th>O2Uptake_iYLI647</th>\n",
       "      <th>GlcUptake_iYLI647</th>\n",
       "    </tr>\n",
       "  </thead>\n",
       "  <tbody>\n",
       "    <tr>\n",
       "      <th>0</th>\n",
       "      <td>1</td>\n",
       "      <td>NaN</td>\n",
       "      <td>10</td>\n",
       "      <td>20</td>\n",
       "      <td>34734.5</td>\n",
       "      <td>0</td>\n",
       "      <td>0</td>\n",
       "      <td>0</td>\n",
       "      <td>1</td>\n",
       "      <td>0.05</td>\n",
       "      <td>...</td>\n",
       "      <td>6.667322</td>\n",
       "      <td>7.343305</td>\n",
       "      <td>1.215066</td>\n",
       "      <td>15.982695</td>\n",
       "      <td>56.429296</td>\n",
       "      <td>0.210230</td>\n",
       "      <td>0.125476</td>\n",
       "      <td>0.854862</td>\n",
       "      <td>-13.207577</td>\n",
       "      <td>-10.0</td>\n",
       "    </tr>\n",
       "    <tr>\n",
       "      <th>1</th>\n",
       "      <td>1</td>\n",
       "      <td>NaN</td>\n",
       "      <td>10</td>\n",
       "      <td>20</td>\n",
       "      <td>34734.5</td>\n",
       "      <td>0</td>\n",
       "      <td>0</td>\n",
       "      <td>0</td>\n",
       "      <td>1</td>\n",
       "      <td>0.05</td>\n",
       "      <td>...</td>\n",
       "      <td>6.667322</td>\n",
       "      <td>7.343305</td>\n",
       "      <td>1.215066</td>\n",
       "      <td>15.982695</td>\n",
       "      <td>56.510524</td>\n",
       "      <td>0.210230</td>\n",
       "      <td>0.125476</td>\n",
       "      <td>0.854862</td>\n",
       "      <td>-13.207577</td>\n",
       "      <td>-10.0</td>\n",
       "    </tr>\n",
       "    <tr>\n",
       "      <th>2</th>\n",
       "      <td>1</td>\n",
       "      <td>NaN</td>\n",
       "      <td>10</td>\n",
       "      <td>20</td>\n",
       "      <td>34734.5</td>\n",
       "      <td>0</td>\n",
       "      <td>0</td>\n",
       "      <td>0</td>\n",
       "      <td>1</td>\n",
       "      <td>0.05</td>\n",
       "      <td>...</td>\n",
       "      <td>6.667322</td>\n",
       "      <td>7.343305</td>\n",
       "      <td>1.215066</td>\n",
       "      <td>15.982695</td>\n",
       "      <td>56.587441</td>\n",
       "      <td>0.210230</td>\n",
       "      <td>0.125476</td>\n",
       "      <td>0.854862</td>\n",
       "      <td>-13.207577</td>\n",
       "      <td>-10.0</td>\n",
       "    </tr>\n",
       "    <tr>\n",
       "      <th>3</th>\n",
       "      <td>1</td>\n",
       "      <td>NaN</td>\n",
       "      <td>10</td>\n",
       "      <td>20</td>\n",
       "      <td>34734.5</td>\n",
       "      <td>0</td>\n",
       "      <td>0</td>\n",
       "      <td>0</td>\n",
       "      <td>1</td>\n",
       "      <td>0.05</td>\n",
       "      <td>...</td>\n",
       "      <td>6.677714</td>\n",
       "      <td>7.280954</td>\n",
       "      <td>3.321615</td>\n",
       "      <td>15.985664</td>\n",
       "      <td>56.962038</td>\n",
       "      <td>0.205776</td>\n",
       "      <td>0.122817</td>\n",
       "      <td>0.854862</td>\n",
       "      <td>-13.483700</td>\n",
       "      <td>-10.0</td>\n",
       "    </tr>\n",
       "  </tbody>\n",
       "</table>\n",
       "<p>4 rows × 50 columns</p>\n",
       "</div>"
      ],
      "text/plain": [
       "  paper_number blank1 cs1 cs_conc1 cs1_heatCombustion(kJ/mol) cs2 cs_conc2  \\\n",
       "0            1    NaN  10       20                    34734.5   0        0   \n",
       "1            1    NaN  10       20                    34734.5   0        0   \n",
       "2            1    NaN  10       20                    34734.5   0        0   \n",
       "3            1    NaN  10       20                    34734.5   0        0   \n",
       "\n",
       "  cs2_heatCombustion(kJ/mol) reactor_type rxt_volume  ... EMP_iYLI647  \\\n",
       "0                          0            1       0.05  ...    6.667322   \n",
       "1                          0            1       0.05  ...    6.667322   \n",
       "2                          0            1       0.05  ...    6.667322   \n",
       "3                          0            1       0.05  ...    6.677714   \n",
       "\n",
       "  PPP_iYLI647 TCA_iYLI647 NADPH_iYLI647 ATP_iYLI647 PrdtFlux_iYLI647  \\\n",
       "0    7.343305    1.215066     15.982695   56.429296         0.210230   \n",
       "1    7.343305    1.215066     15.982695   56.510524         0.210230   \n",
       "2    7.343305    1.215066     15.982695   56.587441         0.210230   \n",
       "3    7.280954    3.321615     15.985664   56.962038         0.205776   \n",
       "\n",
       "  PrdtYield_iYLI647 Biomass_iYLI647 O2Uptake_iYLI647 GlcUptake_iYLI647  \n",
       "0          0.125476        0.854862       -13.207577             -10.0  \n",
       "1          0.125476        0.854862       -13.207577             -10.0  \n",
       "2          0.125476        0.854862       -13.207577             -10.0  \n",
       "3          0.122817        0.854862       -13.483700             -10.0  \n",
       "\n",
       "[4 rows x 50 columns]"
      ]
     },
     "execution_count": 7,
     "metadata": {},
     "output_type": "execute_result"
    }
   ],
   "source": [
    "output"
   ]
  },
  {
   "cell_type": "markdown",
   "metadata": {},
   "source": [
    "## Encode data"
   ]
  },
  {
   "cell_type": "code",
   "execution_count": 8,
   "metadata": {},
   "outputs": [],
   "source": [
    "#encode data, using output from FBA modeling section\n",
    "encodedData = encodeTransform(output)"
   ]
  },
  {
   "cell_type": "markdown",
   "metadata": {},
   "source": [
    "### Predict Machine learning trained model."
   ]
  },
  {
   "cell_type": "code",
   "execution_count": 9,
   "metadata": {},
   "outputs": [],
   "source": [
    "from ModulizeMLPredictions import perform_MLPrediction"
   ]
  },
  {
   "cell_type": "code",
   "execution_count": 10,
   "metadata": {},
   "outputs": [
    {
     "data": {
      "text/html": [
       "<div>\n",
       "<style scoped>\n",
       "    .dataframe tbody tr th:only-of-type {\n",
       "        vertical-align: middle;\n",
       "    }\n",
       "\n",
       "    .dataframe tbody tr th {\n",
       "        vertical-align: top;\n",
       "    }\n",
       "\n",
       "    .dataframe thead th {\n",
       "        text-align: right;\n",
       "    }\n",
       "</style>\n",
       "<table border=\"1\" class=\"dataframe\">\n",
       "  <thead>\n",
       "    <tr style=\"text-align: right;\">\n",
       "      <th></th>\n",
       "      <th>TiterPrediction(g/L)</th>\n",
       "      <th>FBA predicted Biomass</th>\n",
       "      <th>FBA predicted Yield</th>\n",
       "    </tr>\n",
       "  </thead>\n",
       "  <tbody>\n",
       "    <tr>\n",
       "      <th>0</th>\n",
       "      <td>0.008105</td>\n",
       "      <td>0.854862</td>\n",
       "      <td>0.125476</td>\n",
       "    </tr>\n",
       "    <tr>\n",
       "      <th>1</th>\n",
       "      <td>0.008105</td>\n",
       "      <td>0.854862</td>\n",
       "      <td>0.125476</td>\n",
       "    </tr>\n",
       "    <tr>\n",
       "      <th>2</th>\n",
       "      <td>0.008105</td>\n",
       "      <td>0.854862</td>\n",
       "      <td>0.125476</td>\n",
       "    </tr>\n",
       "    <tr>\n",
       "      <th>3</th>\n",
       "      <td>0.008986</td>\n",
       "      <td>0.854862</td>\n",
       "      <td>0.122817</td>\n",
       "    </tr>\n",
       "  </tbody>\n",
       "</table>\n",
       "</div>"
      ],
      "text/plain": [
       "   TiterPrediction(g/L)  FBA predicted Biomass  FBA predicted Yield\n",
       "0              0.008105               0.854862             0.125476\n",
       "1              0.008105               0.854862             0.125476\n",
       "2              0.008105               0.854862             0.125476\n",
       "3              0.008986               0.854862             0.122817"
      ]
     },
     "execution_count": 10,
     "metadata": {},
     "output_type": "execute_result"
    }
   ],
   "source": [
    "MLOutput = perform_MLPrediction(encodedData,output)\n",
    "MLOutput"
   ]
  },
  {
   "cell_type": "code",
   "execution_count": null,
   "metadata": {},
   "outputs": [],
   "source": [
    "#Save file\n",
    "MLOutput.to_csv('Screen.csv')"
   ]
  },
  {
   "cell_type": "code",
   "execution_count": null,
   "metadata": {},
   "outputs": [],
   "source": []
  },
  {
   "cell_type": "code",
   "execution_count": null,
   "metadata": {},
   "outputs": [],
   "source": []
  },
  {
   "cell_type": "code",
   "execution_count": null,
   "metadata": {},
   "outputs": [],
   "source": []
  },
  {
   "cell_type": "code",
   "execution_count": null,
   "metadata": {},
   "outputs": [],
   "source": []
  },
  {
   "cell_type": "code",
   "execution_count": null,
   "metadata": {},
   "outputs": [],
   "source": []
  }
 ],
 "metadata": {
  "kernelspec": {
   "display_name": "condaPY36lin",
   "language": "python",
   "name": "condapy36lin"
  },
  "language_info": {
   "codemirror_mode": {
    "name": "ipython",
    "version": 3
   },
   "file_extension": ".py",
   "mimetype": "text/x-python",
   "name": "python",
   "nbconvert_exporter": "python",
   "pygments_lexer": "ipython3",
   "version": "3.6.12"
  }
 },
 "nbformat": 4,
 "nbformat_minor": 4
}
